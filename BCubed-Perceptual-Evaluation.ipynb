{
 "cells": [
  {
   "cell_type": "code",
   "execution_count": 1,
   "metadata": {},
   "outputs": [],
   "source": [
    "import pandas as pd\n",
    "import numpy as np\n",
    "import bcubed"
   ]
  },
  {
   "cell_type": "markdown",
   "metadata": {},
   "source": [
    "# Load TSVs"
   ]
  },
  {
   "cell_type": "code",
   "execution_count": 2,
   "metadata": {},
   "outputs": [],
   "source": [
    "user_emb_2d = pd.read_csv(\"./data/users_by_title_embeddings_source.tsv\", sep='\\t', header=None)\n",
    "# missing atm\n",
    "#user_emb_2d_cluster_eom_labels = pd.read_csv(\"./embeddings/users_by_title_source_embeddings_cluster_urce_labels.tsv\", sep='\\t', header=None)\n",
    "user_emb_2d_labels = pd.read_csv(\"./data/users_by_title_embeddings_source_labels.tsv\", sep='\\t', header=None)"
   ]
  },
  {
   "cell_type": "markdown",
   "metadata": {},
   "source": [
    "# Calculate BCubed for Each"
   ]
  },
  {
   "cell_type": "code",
   "execution_count": 2,
   "metadata": {},
   "outputs": [],
   "source": [
    "def calc_bcubed(clusters, real):\n",
    "    cdict = clusters.to_dict()\n",
    "    ldict = real.to_dict()\n",
    "    cdict = {k:set([v]) for k, v in cdict.items()}\n",
    "    ldict = {k:set([v]) for k, v in ldict.items()}\n",
    "    print(\"Calculating precision...\")\n",
    "    precision = bcubed.precision(cdict, ldict)\n",
    "    print(\"Calculating recall...\")\n",
    "    recall = bcubed.recall(cdict, ldict)\n",
    "    print(\"Calculating f-score...\")\n",
    "    fscore = bcubed.fscore(precision, recall)\n",
    "    print(f\"Precision: {round(precision, 4)}\")\n",
    "    print(f\"Recall: {round(recall, 4)}\")\n",
    "    print(f\"F-Score: {round(fscore, 4)}\")\n",
    "    \n",
    "    num_c = clusters.nunique()\n",
    "\n",
    "    print(f\"Randomly generating {num_c} clusters...\")\n",
    "    bp_sum = 0.0\n",
    "    br_sum = 0.0\n",
    "    bf_sum = 0.0\n",
    "\n",
    "    TRIALS = 1\n",
    "    for f in range(TRIALS):\n",
    "        cdict2 = {k:set([np.random.randint(num_c)]) for k in range(len(cdict))}\n",
    "        bp = bcubed.precision(cdict2, ldict)\n",
    "        br = bcubed.recall(cdict2, ldict)\n",
    "        bf = bcubed.fscore(bp, br)\n",
    "        \n",
    "        bp_sum += bp\n",
    "        br_sum += br\n",
    "        bf_sum += bf\n",
    "\n",
    "    print(f\"Baseline precision: {round(bp_sum/TRIALS, 4)}\")\n",
    "    print(f\"Baseline recall: {round(br_sum/TRIALS, 4)}\")\n",
    "    print(f\"Baseline F-Score: {round(bf_sum/TRIALS, 4)}\")"
   ]
  },
  {
   "cell_type": "markdown",
   "metadata": {},
   "source": [
    "## 3D User Embedding Leaf"
   ]
  },
  {
   "cell_type": "code",
   "execution_count": 12,
   "metadata": {},
   "outputs": [
    {
     "data": {
      "text/plain": [
       "(1850, 3)"
      ]
     },
     "execution_count": 12,
     "metadata": {},
     "output_type": "execute_result"
    }
   ],
   "source": [
    "user_emb_3d.shape"
   ]
  },
  {
   "cell_type": "code",
   "execution_count": 13,
   "metadata": {},
   "outputs": [],
   "source": [
    "user_emb_3d = pd.read_csv(\"./data/users_by_title_embeddings_source_3d.tsv\", sep='\\t', header=None)\n",
    "user_emb_3d_cluster_leaf_labels = pd.read_csv(\"./data/users_by_title_embeddings_source_3d_leaf.tsv\", sep='\\t', header=None)\n",
    "user_emb_3d_labels = pd.read_csv(\"./data/users_by_title_embeddings_source_labels.tsv\", sep='\\t')"
   ]
  },
  {
   "cell_type": "code",
   "execution_count": 15,
   "metadata": {},
   "outputs": [
    {
     "data": {
      "text/html": [
       "<div>\n",
       "<style scoped>\n",
       "    .dataframe tbody tr th:only-of-type {\n",
       "        vertical-align: middle;\n",
       "    }\n",
       "\n",
       "    .dataframe tbody tr th {\n",
       "        vertical-align: top;\n",
       "    }\n",
       "\n",
       "    .dataframe thead th {\n",
       "        text-align: right;\n",
       "    }\n",
       "</style>\n",
       "<table border=\"1\" class=\"dataframe\">\n",
       "  <thead>\n",
       "    <tr style=\"text-align: right;\">\n",
       "      <th></th>\n",
       "      <th>author</th>\n",
       "      <th>post1</th>\n",
       "      <th>post2</th>\n",
       "      <th>post3</th>\n",
       "      <th>post4</th>\n",
       "      <th>post5</th>\n",
       "    </tr>\n",
       "  </thead>\n",
       "  <tbody>\n",
       "    <tr>\n",
       "      <th>0</th>\n",
       "      <td>yaxyakalagalis</td>\n",
       "      <td>First Nations gambling revenue law passes legi...</td>\n",
       "      <td>It’s about a brighter future. Indigenous Human...</td>\n",
       "      <td>‘It’s a symbol of our strength’: Heiltsuk open...</td>\n",
       "      <td>Changes to Gaming Control Act to support First...</td>\n",
       "      <td>B.C. and First Nation governments mark progres...</td>\n",
       "    </tr>\n",
       "    <tr>\n",
       "      <th>1</th>\n",
       "      <td>MonkeyingAround604</td>\n",
       "      <td>Seawall Splash. Kits Beach.</td>\n",
       "      <td>Lesser Garibaldi Lake, taken this morning.</td>\n",
       "      <td>Mt Price and Garibaldi Lake.</td>\n",
       "      <td>Porteau Cove things...</td>\n",
       "      <td>Beautiful Day to visit Joffre Lakes!</td>\n",
       "    </tr>\n",
       "    <tr>\n",
       "      <th>2</th>\n",
       "      <td>airbreather02</td>\n",
       "      <td>B.C. backs proposal for liquefied natural gas ...</td>\n",
       "      <td>Tired of dealing with abuse, BC Ferries worker...</td>\n",
       "      <td>Top tech CEOs warn Canada's 'future economic p...</td>\n",
       "      <td>Alberta makes it official: Bill passed and pro...</td>\n",
       "      <td>Trudeau: Wilson-Raybould Asked 'If I Was Direc...</td>\n",
       "    </tr>\n",
       "    <tr>\n",
       "      <th>3</th>\n",
       "      <td>silvaney19</td>\n",
       "      <td>B.C. drivers in car-fuffle at EV charging stat...</td>\n",
       "      <td>B.C. seafood wholesaler admits to illegally im...</td>\n",
       "      <td>Mike Smyth: The case of the missing booze and ...</td>\n",
       "      <td>Animals in distress alarm B.C. climate-change ...</td>\n",
       "      <td>Gangster who aided Surrey Six killers gets sta...</td>\n",
       "    </tr>\n",
       "    <tr>\n",
       "      <th>4</th>\n",
       "      <td>GlobalClimateChange</td>\n",
       "      <td>B.C. tables historic Indigenous rights bill in...</td>\n",
       "      <td>Was this zoologist punished for telling school...</td>\n",
       "      <td>Ladies and gentlemen, I present to you the Fra...</td>\n",
       "      <td>Climate change education in Canada lacks scien...</td>\n",
       "      <td>Federal election 2019: Where the four main par...</td>\n",
       "    </tr>\n",
       "    <tr>\n",
       "      <th>...</th>\n",
       "      <td>...</td>\n",
       "      <td>...</td>\n",
       "      <td>...</td>\n",
       "      <td>...</td>\n",
       "      <td>...</td>\n",
       "      <td>...</td>\n",
       "    </tr>\n",
       "    <tr>\n",
       "      <th>1845</th>\n",
       "      <td>BerskyN</td>\n",
       "      <td>Guy Kawasaki talks about tokens</td>\n",
       "      <td>How does Ties.DB database use blockchain techn...</td>\n",
       "      <td>Diversifying Bitcoin? Take a Look at These Thr...</td>\n",
       "      <td>Decentralized Public Smart Database Ties.DB to...</td>\n",
       "      <td>5 Lesser Known Crypto Coins and Tokens That Co...</td>\n",
       "    </tr>\n",
       "    <tr>\n",
       "      <th>1846</th>\n",
       "      <td>WhatImDoindHere</td>\n",
       "      <td>This is what our leader's got to do!</td>\n",
       "      <td>Next day...</td>\n",
       "      <td>How to deal with cops in 2016</td>\n",
       "      <td>December 2016 that we deserve</td>\n",
       "      <td>God Bless America</td>\n",
       "    </tr>\n",
       "    <tr>\n",
       "      <th>1847</th>\n",
       "      <td>Kevin_Milner</td>\n",
       "      <td>Meet 80-Year-Old South African Designer Respon...</td>\n",
       "      <td>Meet 80-Year-Old South African Designer Respon...</td>\n",
       "      <td>SURJ: Showing Up For Racial Justice</td>\n",
       "      <td>Billionaire Robert Smith's $20M Donation to Af...</td>\n",
       "      <td>The Black Maternal Mortality Rate in the US Is...</td>\n",
       "    </tr>\n",
       "    <tr>\n",
       "      <th>1848</th>\n",
       "      <td>shomyo</td>\n",
       "      <td>Homeland Security to Compile Database of Journ...</td>\n",
       "      <td>Abby Martin interview critical of Israel is bl...</td>\n",
       "      <td>Islam party in Belgium wants to create an Isla...</td>\n",
       "      <td>Macedonia Apologizes to Man Who Was Seized on ...</td>\n",
       "      <td>Macedonia Apologizes to Man Who Was Seized on ...</td>\n",
       "    </tr>\n",
       "    <tr>\n",
       "      <th>1849</th>\n",
       "      <td>rubinjer</td>\n",
       "      <td>The Man who upvotes everything</td>\n",
       "      <td>When you dead but you have warrants</td>\n",
       "      <td>How to scare your latino friends</td>\n",
       "      <td>Welcome back Dave</td>\n",
       "      <td>Amy Schumer said that she will leave the count...</td>\n",
       "    </tr>\n",
       "  </tbody>\n",
       "</table>\n",
       "<p>1850 rows × 6 columns</p>\n",
       "</div>"
      ],
      "text/plain": [
       "                   author                                              post1  \\\n",
       "0          yaxyakalagalis  First Nations gambling revenue law passes legi...   \n",
       "1      MonkeyingAround604                        Seawall Splash. Kits Beach.   \n",
       "2           airbreather02  B.C. backs proposal for liquefied natural gas ...   \n",
       "3              silvaney19  B.C. drivers in car-fuffle at EV charging stat...   \n",
       "4     GlobalClimateChange  B.C. tables historic Indigenous rights bill in...   \n",
       "...                   ...                                                ...   \n",
       "1845              BerskyN                    Guy Kawasaki talks about tokens   \n",
       "1846      WhatImDoindHere               This is what our leader's got to do!   \n",
       "1847         Kevin_Milner  Meet 80-Year-Old South African Designer Respon...   \n",
       "1848               shomyo  Homeland Security to Compile Database of Journ...   \n",
       "1849             rubinjer                     The Man who upvotes everything   \n",
       "\n",
       "                                                  post2  \\\n",
       "0     It’s about a brighter future. Indigenous Human...   \n",
       "1            Lesser Garibaldi Lake, taken this morning.   \n",
       "2     Tired of dealing with abuse, BC Ferries worker...   \n",
       "3     B.C. seafood wholesaler admits to illegally im...   \n",
       "4     Was this zoologist punished for telling school...   \n",
       "...                                                 ...   \n",
       "1845  How does Ties.DB database use blockchain techn...   \n",
       "1846                                        Next day...   \n",
       "1847  Meet 80-Year-Old South African Designer Respon...   \n",
       "1848  Abby Martin interview critical of Israel is bl...   \n",
       "1849                When you dead but you have warrants   \n",
       "\n",
       "                                                  post3  \\\n",
       "0     ‘It’s a symbol of our strength’: Heiltsuk open...   \n",
       "1                          Mt Price and Garibaldi Lake.   \n",
       "2     Top tech CEOs warn Canada's 'future economic p...   \n",
       "3     Mike Smyth: The case of the missing booze and ...   \n",
       "4     Ladies and gentlemen, I present to you the Fra...   \n",
       "...                                                 ...   \n",
       "1845  Diversifying Bitcoin? Take a Look at These Thr...   \n",
       "1846                      How to deal with cops in 2016   \n",
       "1847                SURJ: Showing Up For Racial Justice   \n",
       "1848  Islam party in Belgium wants to create an Isla...   \n",
       "1849                   How to scare your latino friends   \n",
       "\n",
       "                                                  post4  \\\n",
       "0     Changes to Gaming Control Act to support First...   \n",
       "1                                Porteau Cove things...   \n",
       "2     Alberta makes it official: Bill passed and pro...   \n",
       "3     Animals in distress alarm B.C. climate-change ...   \n",
       "4     Climate change education in Canada lacks scien...   \n",
       "...                                                 ...   \n",
       "1845  Decentralized Public Smart Database Ties.DB to...   \n",
       "1846                      December 2016 that we deserve   \n",
       "1847  Billionaire Robert Smith's $20M Donation to Af...   \n",
       "1848  Macedonia Apologizes to Man Who Was Seized on ...   \n",
       "1849                                  Welcome back Dave   \n",
       "\n",
       "                                                  post5  \n",
       "0     B.C. and First Nation governments mark progres...  \n",
       "1                  Beautiful Day to visit Joffre Lakes!  \n",
       "2     Trudeau: Wilson-Raybould Asked 'If I Was Direc...  \n",
       "3     Gangster who aided Surrey Six killers gets sta...  \n",
       "4     Federal election 2019: Where the four main par...  \n",
       "...                                                 ...  \n",
       "1845  5 Lesser Known Crypto Coins and Tokens That Co...  \n",
       "1846                                  God Bless America  \n",
       "1847  The Black Maternal Mortality Rate in the US Is...  \n",
       "1848  Macedonia Apologizes to Man Who Was Seized on ...  \n",
       "1849  Amy Schumer said that she will leave the count...  \n",
       "\n",
       "[1850 rows x 6 columns]"
      ]
     },
     "execution_count": 15,
     "metadata": {},
     "output_type": "execute_result"
    }
   ],
   "source": [
    "user_emb_3d_labels"
   ]
  },
  {
   "cell_type": "code",
   "execution_count": 14,
   "metadata": {},
   "outputs": [
    {
     "ename": "KeyError",
     "evalue": "'source'",
     "output_type": "error",
     "traceback": [
      "\u001b[0;31m---------------------------------------------------------------------------\u001b[0m",
      "\u001b[0;31mKeyError\u001b[0m                                  Traceback (most recent call last)",
      "\u001b[0;32m~/anaconda3/envs/umap/lib/python3.7/site-packages/pandas/core/indexes/base.py\u001b[0m in \u001b[0;36mget_loc\u001b[0;34m(self, key, method, tolerance)\u001b[0m\n\u001b[1;32m   2645\u001b[0m             \u001b[0;32mtry\u001b[0m\u001b[0;34m:\u001b[0m\u001b[0;34m\u001b[0m\u001b[0;34m\u001b[0m\u001b[0m\n\u001b[0;32m-> 2646\u001b[0;31m                 \u001b[0;32mreturn\u001b[0m \u001b[0mself\u001b[0m\u001b[0;34m.\u001b[0m\u001b[0m_engine\u001b[0m\u001b[0;34m.\u001b[0m\u001b[0mget_loc\u001b[0m\u001b[0;34m(\u001b[0m\u001b[0mkey\u001b[0m\u001b[0;34m)\u001b[0m\u001b[0;34m\u001b[0m\u001b[0;34m\u001b[0m\u001b[0m\n\u001b[0m\u001b[1;32m   2647\u001b[0m             \u001b[0;32mexcept\u001b[0m \u001b[0mKeyError\u001b[0m\u001b[0;34m:\u001b[0m\u001b[0;34m\u001b[0m\u001b[0;34m\u001b[0m\u001b[0m\n",
      "\u001b[0;32mpandas/_libs/index.pyx\u001b[0m in \u001b[0;36mpandas._libs.index.IndexEngine.get_loc\u001b[0;34m()\u001b[0m\n",
      "\u001b[0;32mpandas/_libs/index.pyx\u001b[0m in \u001b[0;36mpandas._libs.index.IndexEngine.get_loc\u001b[0;34m()\u001b[0m\n",
      "\u001b[0;32mpandas/_libs/hashtable_class_helper.pxi\u001b[0m in \u001b[0;36mpandas._libs.hashtable.PyObjectHashTable.get_item\u001b[0;34m()\u001b[0m\n",
      "\u001b[0;32mpandas/_libs/hashtable_class_helper.pxi\u001b[0m in \u001b[0;36mpandas._libs.hashtable.PyObjectHashTable.get_item\u001b[0;34m()\u001b[0m\n",
      "\u001b[0;31mKeyError\u001b[0m: 'source'",
      "\nDuring handling of the above exception, another exception occurred:\n",
      "\u001b[0;31mKeyError\u001b[0m                                  Traceback (most recent call last)",
      "\u001b[0;32m<ipython-input-14-5b46db782a4f>\u001b[0m in \u001b[0;36m<module>\u001b[0;34m\u001b[0m\n\u001b[0;32m----> 1\u001b[0;31m \u001b[0mcalc_bcubed\u001b[0m\u001b[0;34m(\u001b[0m\u001b[0muser_emb_3d_cluster_leaf_labels\u001b[0m\u001b[0;34m[\u001b[0m\u001b[0;36m0\u001b[0m\u001b[0;34m]\u001b[0m\u001b[0;34m,\u001b[0m \u001b[0muser_emb_3d_labels\u001b[0m\u001b[0;34m[\u001b[0m\u001b[0;34m'source'\u001b[0m\u001b[0;34m]\u001b[0m\u001b[0;34m)\u001b[0m\u001b[0;34m\u001b[0m\u001b[0;34m\u001b[0m\u001b[0m\n\u001b[0m",
      "\u001b[0;32m~/anaconda3/envs/umap/lib/python3.7/site-packages/pandas/core/frame.py\u001b[0m in \u001b[0;36m__getitem__\u001b[0;34m(self, key)\u001b[0m\n\u001b[1;32m   2798\u001b[0m             \u001b[0;32mif\u001b[0m \u001b[0mself\u001b[0m\u001b[0;34m.\u001b[0m\u001b[0mcolumns\u001b[0m\u001b[0;34m.\u001b[0m\u001b[0mnlevels\u001b[0m \u001b[0;34m>\u001b[0m \u001b[0;36m1\u001b[0m\u001b[0;34m:\u001b[0m\u001b[0;34m\u001b[0m\u001b[0;34m\u001b[0m\u001b[0m\n\u001b[1;32m   2799\u001b[0m                 \u001b[0;32mreturn\u001b[0m \u001b[0mself\u001b[0m\u001b[0;34m.\u001b[0m\u001b[0m_getitem_multilevel\u001b[0m\u001b[0;34m(\u001b[0m\u001b[0mkey\u001b[0m\u001b[0;34m)\u001b[0m\u001b[0;34m\u001b[0m\u001b[0;34m\u001b[0m\u001b[0m\n\u001b[0;32m-> 2800\u001b[0;31m             \u001b[0mindexer\u001b[0m \u001b[0;34m=\u001b[0m \u001b[0mself\u001b[0m\u001b[0;34m.\u001b[0m\u001b[0mcolumns\u001b[0m\u001b[0;34m.\u001b[0m\u001b[0mget_loc\u001b[0m\u001b[0;34m(\u001b[0m\u001b[0mkey\u001b[0m\u001b[0;34m)\u001b[0m\u001b[0;34m\u001b[0m\u001b[0;34m\u001b[0m\u001b[0m\n\u001b[0m\u001b[1;32m   2801\u001b[0m             \u001b[0;32mif\u001b[0m \u001b[0mis_integer\u001b[0m\u001b[0;34m(\u001b[0m\u001b[0mindexer\u001b[0m\u001b[0;34m)\u001b[0m\u001b[0;34m:\u001b[0m\u001b[0;34m\u001b[0m\u001b[0;34m\u001b[0m\u001b[0m\n\u001b[1;32m   2802\u001b[0m                 \u001b[0mindexer\u001b[0m \u001b[0;34m=\u001b[0m \u001b[0;34m[\u001b[0m\u001b[0mindexer\u001b[0m\u001b[0;34m]\u001b[0m\u001b[0;34m\u001b[0m\u001b[0;34m\u001b[0m\u001b[0m\n",
      "\u001b[0;32m~/anaconda3/envs/umap/lib/python3.7/site-packages/pandas/core/indexes/base.py\u001b[0m in \u001b[0;36mget_loc\u001b[0;34m(self, key, method, tolerance)\u001b[0m\n\u001b[1;32m   2646\u001b[0m                 \u001b[0;32mreturn\u001b[0m \u001b[0mself\u001b[0m\u001b[0;34m.\u001b[0m\u001b[0m_engine\u001b[0m\u001b[0;34m.\u001b[0m\u001b[0mget_loc\u001b[0m\u001b[0;34m(\u001b[0m\u001b[0mkey\u001b[0m\u001b[0;34m)\u001b[0m\u001b[0;34m\u001b[0m\u001b[0;34m\u001b[0m\u001b[0m\n\u001b[1;32m   2647\u001b[0m             \u001b[0;32mexcept\u001b[0m \u001b[0mKeyError\u001b[0m\u001b[0;34m:\u001b[0m\u001b[0;34m\u001b[0m\u001b[0;34m\u001b[0m\u001b[0m\n\u001b[0;32m-> 2648\u001b[0;31m                 \u001b[0;32mreturn\u001b[0m \u001b[0mself\u001b[0m\u001b[0;34m.\u001b[0m\u001b[0m_engine\u001b[0m\u001b[0;34m.\u001b[0m\u001b[0mget_loc\u001b[0m\u001b[0;34m(\u001b[0m\u001b[0mself\u001b[0m\u001b[0;34m.\u001b[0m\u001b[0m_maybe_cast_indexer\u001b[0m\u001b[0;34m(\u001b[0m\u001b[0mkey\u001b[0m\u001b[0;34m)\u001b[0m\u001b[0;34m)\u001b[0m\u001b[0;34m\u001b[0m\u001b[0;34m\u001b[0m\u001b[0m\n\u001b[0m\u001b[1;32m   2649\u001b[0m         \u001b[0mindexer\u001b[0m \u001b[0;34m=\u001b[0m \u001b[0mself\u001b[0m\u001b[0;34m.\u001b[0m\u001b[0mget_indexer\u001b[0m\u001b[0;34m(\u001b[0m\u001b[0;34m[\u001b[0m\u001b[0mkey\u001b[0m\u001b[0;34m]\u001b[0m\u001b[0;34m,\u001b[0m \u001b[0mmethod\u001b[0m\u001b[0;34m=\u001b[0m\u001b[0mmethod\u001b[0m\u001b[0;34m,\u001b[0m \u001b[0mtolerance\u001b[0m\u001b[0;34m=\u001b[0m\u001b[0mtolerance\u001b[0m\u001b[0;34m)\u001b[0m\u001b[0;34m\u001b[0m\u001b[0;34m\u001b[0m\u001b[0m\n\u001b[1;32m   2650\u001b[0m         \u001b[0;32mif\u001b[0m \u001b[0mindexer\u001b[0m\u001b[0;34m.\u001b[0m\u001b[0mndim\u001b[0m \u001b[0;34m>\u001b[0m \u001b[0;36m1\u001b[0m \u001b[0;32mor\u001b[0m \u001b[0mindexer\u001b[0m\u001b[0;34m.\u001b[0m\u001b[0msize\u001b[0m \u001b[0;34m>\u001b[0m \u001b[0;36m1\u001b[0m\u001b[0;34m:\u001b[0m\u001b[0;34m\u001b[0m\u001b[0;34m\u001b[0m\u001b[0m\n",
      "\u001b[0;32mpandas/_libs/index.pyx\u001b[0m in \u001b[0;36mpandas._libs.index.IndexEngine.get_loc\u001b[0;34m()\u001b[0m\n",
      "\u001b[0;32mpandas/_libs/index.pyx\u001b[0m in \u001b[0;36mpandas._libs.index.IndexEngine.get_loc\u001b[0;34m()\u001b[0m\n",
      "\u001b[0;32mpandas/_libs/hashtable_class_helper.pxi\u001b[0m in \u001b[0;36mpandas._libs.hashtable.PyObjectHashTable.get_item\u001b[0;34m()\u001b[0m\n",
      "\u001b[0;32mpandas/_libs/hashtable_class_helper.pxi\u001b[0m in \u001b[0;36mpandas._libs.hashtable.PyObjectHashTable.get_item\u001b[0;34m()\u001b[0m\n",
      "\u001b[0;31mKeyError\u001b[0m: 'source'"
     ]
    }
   ],
   "source": [
    "calc_bcubed(user_emb_3d_cluster_leaf_labels[0], user_emb_3d_labels['source'])"
   ]
  },
  {
   "cell_type": "markdown",
   "metadata": {},
   "source": [
    "## 3D User Embedding EOM"
   ]
  },
  {
   "cell_type": "code",
   "execution_count": null,
   "metadata": {},
   "outputs": [],
   "source": [
    "user_emb_3d = pd.read_csv(\"./embeddings/users_by_title_source_embeddings_3d.tsv\", sep='\\t', header=None)\n",
    "user_emb_3d_cluster_eom_labels = pd.read_csv(\"./embeddings/users_by_title_source_embeddings_cluster_labels_3d.tsv\", sep='\\t', header=None)\n",
    "user_emb_3d_labels = pd.read_csv(\"./embeddings/users_by_title_source_embeddings_labels_3d.tsv\", sep='\\t')"
   ]
  },
  {
   "cell_type": "code",
   "execution_count": 99,
   "metadata": {},
   "outputs": [
    {
     "name": "stdout",
     "output_type": "stream",
     "text": [
      "Precision: 0.885\n",
      "Recall: 0.8398\n",
      "F-Score: 0.8618\n",
      "Randomly generating 3 clusters...\n",
      "Baseline precision: 0.8738\n",
      "Baseline recall: 0.3338\n",
      "Baseline F-Score: 0.8618\n"
     ]
    }
   ],
   "source": [
    "calc_bcubed(user_emb_3d_cluster_eom_labels[0], user_emb_3d_labels['source'])"
   ]
  },
  {
   "cell_type": "markdown",
   "metadata": {},
   "source": [
    "## 2D User Embedding Leaf"
   ]
  },
  {
   "cell_type": "code",
   "execution_count": 108,
   "metadata": {},
   "outputs": [],
   "source": [
    "user_emb_2d = pd.read_csv(\"./embeddings/users_by_title_embeddings_source.tsv\", sep='\\t', header=None)\n",
    "user_emb_2d_cluster_leaf_labels = pd.read_csv(\"./embeddings/users_by_title_source_embeddings_cluster_labels_leaf.tsv\", sep='\\t', header=None)\n",
    "user_emb_2d_labels = pd.read_csv(\"./embeddings/users_by_title_embeddings_source_labels.tsv\", sep='\\t')"
   ]
  },
  {
   "cell_type": "code",
   "execution_count": 109,
   "metadata": {},
   "outputs": [
    {
     "name": "stdout",
     "output_type": "stream",
     "text": [
      "Precision: 0.9116\n",
      "Recall: 0.3187\n",
      "F-Score: 0.4723\n",
      "Randomly generating 20 clusters...\n",
      "Baseline precision: 0.875\n",
      "Baseline recall: 0.0509\n",
      "Baseline F-Score: 0.0962\n"
     ]
    }
   ],
   "source": [
    "calc_bcubed(user_emb_2d_cluster_leaf_labels[0], user_emb_2d_labels['source'])"
   ]
  },
  {
   "cell_type": "markdown",
   "metadata": {},
   "source": [
    "## 2D User Embedding EOM"
   ]
  },
  {
   "cell_type": "code",
   "execution_count": 110,
   "metadata": {},
   "outputs": [],
   "source": [
    "user_emb_2d = pd.read_csv(\"./embeddings/users_by_title_embeddings_source.tsv\", sep='\\t', header=None)\n",
    "user_emb_2d_cluster_eom_labels = pd.read_csv(\"./embeddings/users_by_title_source_embeddings_cluster_labels_eom.tsv\", sep='\\t', header=None)\n",
    "user_emb_2d_labels = pd.read_csv(\"./embeddings/users_by_title_embeddings_source_labels.tsv\", sep='\\t')"
   ]
  },
  {
   "cell_type": "code",
   "execution_count": 111,
   "metadata": {},
   "outputs": [
    {
     "name": "stdout",
     "output_type": "stream",
     "text": [
      "Precision: 0.8857\n",
      "Recall: 0.8407\n",
      "F-Score: 0.8626\n",
      "Randomly generating 3 clusters...\n",
      "Baseline precision: 0.8739\n",
      "Baseline recall: 0.334\n",
      "Baseline F-Score: 0.4833\n"
     ]
    }
   ],
   "source": [
    "calc_bcubed(user_emb_2d_cluster_eom_labels[0], user_emb_2d_labels['source'])"
   ]
  },
  {
   "cell_type": "markdown",
   "metadata": {},
   "source": [
    "## 2D Title Embedding Leaf"
   ]
  },
  {
   "cell_type": "code",
   "execution_count": 130,
   "metadata": {},
   "outputs": [],
   "source": [
    "title_emb_2d = pd.read_csv(\"./embeddings/posts_by_title_embedding_source_2d.tsv\", sep='\\t', header=None)\n",
    "title_emb_2d_cluster_leaf_labels = pd.read_csv(\"./embeddings/posts_by_title_source_embeddings_cluster_labels_2d_leaf.tsv\", sep='\\t', header=None)\n",
    "title_source_labels = pd.read_csv(\"./embeddings/source_labels_raw.tsv\", sep='\\t')"
   ]
  },
  {
   "cell_type": "code",
   "execution_count": null,
   "metadata": {},
   "outputs": [
    {
     "name": "stdout",
     "output_type": "stream",
     "text": [
      "Calculating precision...\n",
      "Calculating recall...\n"
     ]
    }
   ],
   "source": [
    "calc_bcubed(title_emb_2d_cluster_leaf_labels[0], title_source_labels['0'])"
   ]
  },
  {
   "cell_type": "markdown",
   "metadata": {},
   "source": [
    "## 2D Title Embedding EOM"
   ]
  },
  {
   "cell_type": "code",
   "execution_count": null,
   "metadata": {},
   "outputs": [],
   "source": [
    "title_emb_2d = pd.read_csv(\"./embeddings/posts_by_title_embedding_source_2d.tsv\", sep='\\t', header=None)\n",
    "title_emb_2d_cluster_eom_labels = pd.read_csv(\"./embeddings/posts_by_title_source_embeddings_cluster_labels_2d.tsv\", sep='\\t', header=None)\n",
    "title_source_labels = pd.read_csv(\"./embeddings/source_labels_raw.tsv\", sep='\\t')"
   ]
  },
  {
   "cell_type": "code",
   "execution_count": null,
   "metadata": {},
   "outputs": [],
   "source": [
    "calc_bcubed(title_emb_2d_cluster_eom_labels[0], title_source_labels['0'])"
   ]
  },
  {
   "cell_type": "markdown",
   "metadata": {},
   "source": [
    "## 3D Title Embedding Leaf"
   ]
  },
  {
   "cell_type": "code",
   "execution_count": null,
   "metadata": {},
   "outputs": [],
   "source": [
    "title_emb_3d = pd.read_csv(\"./embeddings/posts_by_title_embedding_source_3d.tsv\", sep='\\t', header=None)\n",
    "title_emb_3d_cluster_leaf_labels = pd.read_csv(\"./embeddings/posts_by_title_source_embeddings_cluster_labels_3d_leaf.tsv\", sep='\\t', header=None)\n",
    "title_source_labels = pd.read_csv(\"./embeddings/source_labels_raw.tsv\", sep='\\t')"
   ]
  },
  {
   "cell_type": "code",
   "execution_count": null,
   "metadata": {},
   "outputs": [],
   "source": [
    "calc_bcubed(title_emb_3d_cluster_leaf_labels[0], title_source_labels['0'])"
   ]
  },
  {
   "cell_type": "markdown",
   "metadata": {},
   "source": [
    "## 3D Title Embedding EOM"
   ]
  },
  {
   "cell_type": "code",
   "execution_count": null,
   "metadata": {},
   "outputs": [],
   "source": [
    "title_emb_3d = pd.read_csv(\"./embeddings/posts_by_title_embedding_source_3d.tsv\", sep='\\t', header=None)\n",
    "title_emb_3d_cluster_eom_labels = pd.read_csv(\"./embeddings/posts_by_title_source_embeddings_cluster_labels_3d.tsv\", sep='\\t', header=None)\n",
    "title_source_labels = pd.read_csv(\"./embeddings/source_labels_raw.tsv\", sep='\\t')"
   ]
  },
  {
   "cell_type": "code",
   "execution_count": null,
   "metadata": {},
   "outputs": [],
   "source": [
    "calc_bcubed(title_emb_3d_cluster_eom_labels[0], title_source_labels['0'])"
   ]
  },
  {
   "cell_type": "code",
   "execution_count": null,
   "metadata": {},
   "outputs": [],
   "source": []
  }
 ],
 "metadata": {
  "kernelspec": {
   "display_name": "UMAP",
   "language": "python",
   "name": "umap"
  },
  "language_info": {
   "codemirror_mode": {
    "name": "ipython",
    "version": 3
   },
   "file_extension": ".py",
   "mimetype": "text/x-python",
   "name": "python",
   "nbconvert_exporter": "python",
   "pygments_lexer": "ipython3",
   "version": "3.7.7"
  }
 },
 "nbformat": 4,
 "nbformat_minor": 4
}
