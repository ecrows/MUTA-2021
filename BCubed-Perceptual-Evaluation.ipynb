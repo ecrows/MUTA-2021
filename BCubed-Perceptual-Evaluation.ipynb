{
 "cells": [
  {
   "cell_type": "code",
   "execution_count": 1,
   "metadata": {},
   "outputs": [],
   "source": [
    "import pandas as pd\n",
    "import numpy as np\n",
    "import bcubed"
   ]
  },
  {
   "cell_type": "markdown",
   "metadata": {},
   "source": [
    "# Load TSVs"
   ]
  },
  {
   "cell_type": "code",
   "execution_count": 7,
   "metadata": {},
   "outputs": [],
   "source": [
    "#user_emb_2d = pd.read_csv(\"./data/users_2d.tsv\", sep='\\t', header=None)\n",
    "#user_emb_2d_labels = pd.read_csv(\"./data/users_by_title_embeddings_source_labels.tsv\", sep='\\t', header=None)"
   ]
  },
  {
   "cell_type": "markdown",
   "metadata": {},
   "source": [
    "# Calculate BCubed for Each"
   ]
  },
  {
   "cell_type": "code",
   "execution_count": 15,
   "metadata": {},
   "outputs": [],
   "source": [
    "def calc_bcubed(clusters, real):\n",
    "    cdict = clusters.to_dict()\n",
    "    ldict = real.to_dict()\n",
    "    cdict = {k:set([v]) for k, v in cdict.items()}\n",
    "    ldict = {k:set([v]) for k, v in ldict.items()}\n",
    "    print(\"Calculating precision...\")\n",
    "    precision = bcubed.precision(cdict, ldict)\n",
    "    print(\"Calculating recall...\")\n",
    "    recall = bcubed.recall(cdict, ldict)\n",
    "    print(\"Calculating f-score...\")\n",
    "    fscore = bcubed.fscore(precision, recall)\n",
    "    print(f\"Precision: {round(precision, 4)}\")\n",
    "    print(f\"Recall: {round(recall, 4)}\")\n",
    "    print(f\"F-Score: {round(fscore, 4)}\")\n",
    "    \n",
    "    num_c = clusters.nunique()\n",
    "    TRIALS = 1\n",
    "\n",
    "    print(f\"Randomly generating {num_c} clusters for {TRIALS} trials...\")\n",
    "    bp_sum = 0.0\n",
    "    br_sum = 0.0\n",
    "    bf_sum = 0.0\n",
    "\n",
    "    for f in range(TRIALS):\n",
    "        cdict2 = {k:set([np.random.randint(num_c)]) for k in range(len(cdict))}\n",
    "        bp = bcubed.precision(cdict2, ldict)\n",
    "        br = bcubed.recall(cdict2, ldict)\n",
    "        bf = bcubed.fscore(bp, br)\n",
    "        \n",
    "        bp_sum += bp\n",
    "        br_sum += br\n",
    "        bf_sum += bf\n",
    "\n",
    "    print(f\"Baseline precision: {round(bp_sum/TRIALS, 4)}\")\n",
    "    print(f\"Baseline recall: {round(br_sum/TRIALS, 4)}\")\n",
    "    print(f\"Baseline F-Score: {round(bf_sum/TRIALS, 4)}\")"
   ]
  },
  {
   "cell_type": "code",
   "execution_count": 12,
   "metadata": {},
   "outputs": [],
   "source": [
    "def load_and_calc(cluster_filename, gold_standard_filename):\n",
    "    clusters = pd.read_csv(cluster_filename, sep='\\t')\n",
    "    gold = pd.read_csv(gold_standard_filename, sep='\\t')\n",
    "    calc_bcubed(clusters[\"0\"], gold['source']) # also a good game engine <3"
   ]
  },
  {
   "cell_type": "markdown",
   "metadata": {},
   "source": [
    "## 3D User Embedding Leaf"
   ]
  },
  {
   "cell_type": "code",
   "execution_count": 14,
   "metadata": {},
   "outputs": [
    {
     "name": "stdout",
     "output_type": "stream",
     "text": [
      "Calculating precision...\n",
      "Calculating recall...\n",
      "Calculating f-score...\n",
      "Precision: 0.9172\n",
      "Recall: 0.2926\n",
      "F-Score: 0.4436\n",
      "Randomly generating 17 clusters...\n",
      "Baseline precision: 0.866\n",
      "Baseline recall: 0.0603\n",
      "Baseline F-Score: 0.1127\n"
     ]
    }
   ],
   "source": [
    "load_and_calc(\"./data/users_hdbscan_labels_3d_leaf_mc15_ms15.tsv\", \"./data/users_by_title_embeddings_source_labels.tsv\")"
   ]
  },
  {
   "cell_type": "markdown",
   "metadata": {},
   "source": [
    "## 3D User Embedding EOM"
   ]
  },
  {
   "cell_type": "code",
   "execution_count": 17,
   "metadata": {},
   "outputs": [
    {
     "name": "stdout",
     "output_type": "stream",
     "text": [
      "Calculating precision...\n",
      "Calculating recall...\n",
      "Calculating f-score...\n",
      "Precision: 0.8753\n",
      "Recall: 0.9804\n",
      "F-Score: 0.9249\n",
      "Randomly generating 2 clusters for 1 trials...\n",
      "Baseline precision: 0.8638\n",
      "Baseline recall: 0.5001\n",
      "Baseline F-Score: 0.6335\n"
     ]
    }
   ],
   "source": [
    "load_and_calc(\"./data/users_hdbscan_labels_3d_eom_mc15_ms15.tsv\", \"./data/users_by_title_embeddings_source_labels.tsv\")"
   ]
  },
  {
   "cell_type": "markdown",
   "metadata": {},
   "source": [
    "## 2D User Embedding Leaf"
   ]
  },
  {
   "cell_type": "code",
   "execution_count": 18,
   "metadata": {},
   "outputs": [
    {
     "name": "stdout",
     "output_type": "stream",
     "text": [
      "Calculating precision...\n",
      "Calculating recall...\n",
      "Calculating f-score...\n",
      "Precision: 0.8932\n",
      "Recall: 0.3945\n",
      "F-Score: 0.5472\n",
      "Randomly generating 22 clusters for 1 trials...\n",
      "Baseline precision: 0.8648\n",
      "Baseline recall: 0.0463\n",
      "Baseline F-Score: 0.0879\n"
     ]
    }
   ],
   "source": [
    "load_and_calc(\"./data/users_hdbscan_labels_2d_leaf_mc15_ms15.tsv\", \"./data/users_by_title_embeddings_source_labels.tsv\")"
   ]
  },
  {
   "cell_type": "markdown",
   "metadata": {},
   "source": [
    "## 2D User Embedding EOM"
   ]
  },
  {
   "cell_type": "code",
   "execution_count": null,
   "metadata": {},
   "outputs": [],
   "source": [
    "load_and_calc(\"./data/users_hdbscan_labels_2d_eom_mc15_ms15.tsv\", \"./data/users_by_title_embeddings_source_labels.tsv\")"
   ]
  }
 ],
 "metadata": {
  "kernelspec": {
   "display_name": "UMAP",
   "language": "python",
   "name": "umap"
  },
  "language_info": {
   "codemirror_mode": {
    "name": "ipython",
    "version": 3
   },
   "file_extension": ".py",
   "mimetype": "text/x-python",
   "name": "python",
   "nbconvert_exporter": "python",
   "pygments_lexer": "ipython3",
   "version": "3.7.7"
  }
 },
 "nbformat": 4,
 "nbformat_minor": 4
}
